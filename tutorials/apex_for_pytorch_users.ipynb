{
 "cells": [
  {
   "cell_type": "markdown",
   "metadata": {},
   "source": [
    "# Apex for PyTorch users\n",
    "\n",
    "This notebook serves as a small tutorial to introduce PyTorch users to some features of NVIDIA's apex (A Pytorch extension) mixed precision training.\n",
    "\n",
    "Have a look at the [repo](https://github.com/NVIDIA/apex) for install instructions.\n",
    "\n",
    "author: [ptrblck](https:github.com/ptrblck)\n",
    "\n",
    "!work in progress!"
   ]
  },
  {
   "cell_type": "markdown",
   "metadata": {},
   "source": [
    "## Mixed precision training\n",
    "\n",
    "apex provides some tools and utilities for mixed precision training.\n",
    "Before diving into these tools, let's first have a look why we would want to use mixed precision training at all and what benefits we would expect using it.\n",
    "\n",
    "Based on the talk of Michael Carilli at the GTC Taiwan 2018, there are a some interesing benefits:\n",
    " 1. 2-4x faster\n",
    " 2. half the memory use\n",
    " 3. just as poweful\n",
    "\n",
    "with no architecture change.\n",
    "You can find the talk [here](http://on-demand.gputechconf.com/gtc-taiwan/2018/video/STW8021.mp4)."
   ]
  },
  {
   "cell_type": "markdown",
   "metadata": {},
   "source": [
    "Let's just setup the small example from the GTC talk and have a look what works just out of the box.\n",
    "\n",
    "First, let's make sure the model is running fine in FP32."
   ]
  },
  {
   "cell_type": "code",
   "execution_count": 1,
   "metadata": {},
   "outputs": [
    {
     "name": "stdout",
     "output_type": "stream",
     "text": [
      "PyTorch version 1.0.0.dev20181130\n"
     ]
    }
   ],
   "source": [
    "import torch\n",
    "import torch.nn as nn\n",
    "import torch.nn.functional as F\n",
    "import torch.optim as optim\n",
    "\n",
    "torch.manual_seed(2809)\n",
    "print('PyTorch version {}'.format(torch.__version__))\n",
    "\n",
    "if not torch.cuda.is_available():\n",
    "    print('CUDA is necessary for this notebook!')\n",
    "device = 'cuda'  # change to another GPU id if necessary"
   ]
  },
  {
   "cell_type": "code",
   "execution_count": 2,
   "metadata": {},
   "outputs": [],
   "source": [
    "import numpy as np\n",
    "import matplotlib.pyplot as plt\n",
    "%matplotlib inline\n",
    "\n",
    "import copy"
   ]
  },
  {
   "cell_type": "markdown",
   "metadata": {},
   "source": [
    "### Simple FP32 training"
   ]
  },
  {
   "cell_type": "code",
   "execution_count": 3,
   "metadata": {},
   "outputs": [],
   "source": [
    "# Create model in FP32, setup loss function and optimizer\n",
    "N, D_in, D_out = 64, 1024, 512  # Mutliples of 8 to use TensorCores, in case you have a Volta GPU\n",
    "\n",
    "x = torch.randn(N, D_in, device=device, dtype=torch.float)\n",
    "y = torch.randn(N, D_out, device=device, dtype=torch.float)\n",
    "\n",
    "model = nn.Linear(D_in, D_out).to(device)\n",
    "\n",
    "optimizer = optim.SGD(model.parameters(), lr=1e-3)  # Set the learning rate a bit higher"
   ]
  },
  {
   "cell_type": "code",
   "execution_count": 4,
   "metadata": {},
   "outputs": [],
   "source": [
    "# Train it for some iterations\n",
    "fp32_losses = []\n",
    "for t in range(5000):\n",
    "    optimizer.zero_grad()\n",
    "    \n",
    "    output = model(x)\n",
    "    loss = F.mse_loss(output, y)\n",
    "    loss.backward()\n",
    "    optimizer.step()\n",
    "\n",
    "    fp32_losses.append(loss.item())"
   ]
  },
  {
   "cell_type": "code",
   "execution_count": 5,
   "metadata": {},
   "outputs": [
    {
     "data": {
      "image/png": "[encoded data removed]",
      "text/plain": [
       "<Figure size 432x288 with 1 Axes>"
      ]
     },
     "metadata": {
      "needs_background": "light"
     },
     "output_type": "display_data"
    }
   ],
   "source": [
    "plt.figure()\n",
    "plt.plot(np.array(fp32_losses))\n",
    "plt.title('FP32 losses')\n",
    "plt.show()"
   ]
  },
  {
   "cell_type": "markdown",
   "metadata": {},
   "source": [
    "### Vanilla FP16 training\n",
    "Alright, that was quite easy and nothing new so far.\n",
    "\n",
    "Let's use FP16 now by calling `.half()` on the data, target as well as the model and run the training again."
   ]
  },
  {
   "cell_type": "code",
   "execution_count": 6,
   "metadata": {},
   "outputs": [],
   "source": [
    "x = x.half()\n",
    "y = y.half()\n",
    "model = nn.Linear(D_in, D_out).half().to(device)\n",
    "\n",
    "fp16_state_dict = copy.deepcopy(model.state_dict())  # Save the state_dict for later! ;)\n",
    "\n",
    "# Don't forget to recreate the optimizer for your new model!\n",
    "optimizer = optim.SGD(model.parameters(), lr=1e-3)"
   ]
  },
  {
   "cell_type": "markdown",
   "metadata": {},
   "source": [
    "Let's make sure the optimizer really stores out `torch.half` parameters and nothing goes wrong."
   ]
  },
  {
   "cell_type": "code",
   "execution_count": 7,
   "metadata": {},
   "outputs": [
    {
     "name": "stdout",
     "output_type": "stream",
     "text": [
      "Parameter containing:\n",
      "tensor([[-0.0020, -0.0127,  0.0111,  ...,  0.0179, -0.0020,  0.0007],\n",
      "        [-0.0211, -0.0214, -0.0055,  ..., -0.0136,  0.0137,  0.0168],\n",
      "        [-0.0303, -0.0004, -0.0237,  ...,  0.0228,  0.0233, -0.0044],\n",
      "        ...,\n",
      "        [ 0.0144,  0.0004,  0.0231,  ..., -0.0007, -0.0056,  0.0129],\n",
      "        [-0.0051,  0.0192, -0.0273,  ..., -0.0134,  0.0158,  0.0272],\n",
      "        [-0.0180, -0.0039, -0.0122,  ..., -0.0062,  0.0299, -0.0160]],\n",
      "       device='cuda:0', dtype=torch.float16, requires_grad=True)\n"
     ]
    }
   ],
   "source": [
    "print(optimizer.param_groups[0]['params'][0])  # Print only first parameter"
   ]
  },
  {
   "cell_type": "markdown",
   "metadata": {},
   "source": [
    "All set so let's train the model again."
   ]
  },
  {
   "cell_type": "code",
   "execution_count": 8,
   "metadata": {},
   "outputs": [],
   "source": [
    "fp16_losses = []\n",
    "for t in range(5000):\n",
    "    optimizer.zero_grad()\n",
    "    \n",
    "    output = model(x)\n",
    "    loss = F.mse_loss(output, y)\n",
    "    loss.backward()\n",
    "    optimizer.step()\n",
    "\n",
    "    fp16_losses.append(loss.item())"
   ]
  },
  {
   "cell_type": "code",
   "execution_count": 9,
   "metadata": {},
   "outputs": [
    {
     "data": {
      "text/plain": [
       "Text(0.5,1,'FP16 losses')"
      ]
     },
     "execution_count": 9,
     "metadata": {},
     "output_type": "execute_result"
    },
    {
     "data": {
      "image/png": "[encoded data removed]",
      "text/plain": [
       "<Figure size 432x288 with 2 Axes>"
      ]
     },
     "metadata": {
      "needs_background": "light"
     },
     "output_type": "display_data"
    }
   ],
   "source": [
    "fig, axarr = plt.subplots(1, 2)\n",
    "axarr[0].plot(np.array(fp32_losses))\n",
    "axarr[0].set_title('FP32 losses')\n",
    "axarr[1].plot(np.array(fp16_losses))\n",
    "axarr[1].set_title('FP16 losses')"
   ]
  },
  {
   "cell_type": "markdown",
   "metadata": {},
   "source": [
    "That doesn't seem to be right for the FP16 training.\n",
    "\n",
    "The loss is not decreasing as in the FP32 case. Also note the steps in the loss curve.\n",
    "Something might go wrong using FP16, so let's think about possible reasons for this strange behavior.\n",
    "\n",
    "Maybe we are dealing with **imprecise weight updates** as descriped in the talk. This might be an issue if we are adding small gradients to larger weights. Let's see the example first."
   ]
  },
  {
   "cell_type": "code",
   "execution_count": 10,
   "metadata": {},
   "outputs": [
    {
     "name": "stdout",
     "output_type": "stream",
     "text": [
      "tensor([1.0001], device='cuda:0')\n",
      "tensor([1.], device='cuda:0', dtype=torch.float16)\n",
      "tensor([0.0001], device='cuda:0', dtype=torch.float16)\n"
     ]
    }
   ],
   "source": [
    "param = torch.tensor([1.0], device=device, dtype=torch.float)\n",
    "print(param + 0.0001)\n",
    "param = torch.tensor([1.0], device=device, dtype=torch.half)\n",
    "print(param + 0.0001)\n",
    "print(torch.tensor([0.0001], device=device, dtype=torch.half))"
   ]
  },
  {
   "cell_type": "markdown",
   "metadata": {},
   "source": [
    "Even though `1.0` as well as `0.0001` are representable using FP16, the addition loses entirely the weight update."
   ]
  },
  {
   "cell_type": "markdown",
   "metadata": {},
   "source": [
    "Fortunately we've saved the `state_dict` of your FP16 model, so that we can restore it and run some tests.\n",
    "\n",
    "### FP32 Master Weights\n",
    "The recipe given by Michael uses FP32 Master Weights to apply the gradient update. Here is the slide from the talk.\n",
    "\n",
    "![master_weights](./images/master_weights.png)\n",
    "\n",
    "Steps 1. and 2. are not changed in this approach. We are still dealing with out FP16 model and run a forward pass using our FP16 data. The backward call calculates also gradients for each parameter using FP16.\n",
    "\n",
    "However, before the optimizer gets called to perform the weight updates, we copy all FP16 gradients to our FP32 Master Gradients, and apply the weight update on our FP32 Master Weights. \n",
    "\n",
    "Thereafter we just copy back the FP32 Master Weights to our model's FP16 weights and can perform another forward pass.\n",
    "This approach makes sure our model stays in FP16 (with all possible performance benefits), while the sensitive gradient update step is performed in FP32.\n",
    "\n",
    "There is still one thing missing. How can the optimizer update our FP32 Master Weights without any knowledge about these parameters? The vanilla approach is to pass the `model.parameters()` to the optimizer, so that it can update these.\n",
    "\n",
    "Well, there is one trick we are using here, so let's have a look at some code and useful helper functions."
   ]
  },
  {
   "cell_type": "markdown",
   "metadata": {},
   "source": [
    "`apex.fp16_utils.prep_param_list` is a helper function to create FP32 master parameters for any model.\n",
    "Here is a small extract of the source code (I've removed some optimized code, as it's not needed to understand the method).\n",
    "\n",
    "```python\n",
    "def prep_param_lists(model, flat_master=False):\n",
    "    model_params = [param for param in model.parameters() if param.requires_grad]\n",
    "\n",
    "    if flat_master:\n",
    "        # ignore for now\n",
    "    else:\n",
    "        master_params = [param.clone().float().detach() for param in model_params]\n",
    "        for param in master_params:\n",
    "            param.requires_grad = True\n",
    "        return model_params, master_params\n",
    "```"
   ]
  },
  {
   "cell_type": "markdown",
   "metadata": {},
   "source": [
    "First, we extract all model parameters which require gradients for easy copying the master parameters back to the model.\n",
    "Using these parameters we create a copy of each parameter in FP32 and make sure to detach them from the computation graph. This makes sure that Autograd won't try to apply any gradient calculations on our master parameters when we call `backward` on the loss.\n",
    "\n",
    "Let's try to implement this approach by restoring our old FP16 model and creating the FP32 master params."
   ]
  },
  {
   "cell_type": "code",
   "execution_count": 11,
   "metadata": {},
   "outputs": [
    {
     "name": "stdout",
     "output_type": "stream",
     "text": [
      "Optimizer param[0]\n",
      " tensor([[-0.0020, -0.0127,  0.0111,  ...,  0.0179, -0.0020,  0.0007],\n",
      "        [-0.0211, -0.0214, -0.0055,  ..., -0.0136,  0.0137,  0.0168],\n",
      "        [-0.0303, -0.0004, -0.0237,  ...,  0.0228,  0.0233, -0.0044],\n",
      "        ...,\n",
      "        [ 0.0144,  0.0004,  0.0231,  ..., -0.0007, -0.0056,  0.0129],\n",
      "        [-0.0051,  0.0192, -0.0273,  ..., -0.0134,  0.0158,  0.0272],\n",
      "        [-0.0180, -0.0039, -0.0122,  ..., -0.0062,  0.0299, -0.0160]],\n",
      "       device='cuda:0', requires_grad=True)\n",
      "Model weight\n",
      " tensor([[-0.0020, -0.0127,  0.0111,  ...,  0.0179, -0.0020,  0.0007],\n",
      "        [-0.0211, -0.0214, -0.0055,  ..., -0.0136,  0.0137,  0.0168],\n",
      "        [-0.0303, -0.0004, -0.0237,  ...,  0.0228,  0.0233, -0.0044],\n",
      "        ...,\n",
      "        [ 0.0144,  0.0004,  0.0231,  ..., -0.0007, -0.0056,  0.0129],\n",
      "        [-0.0051,  0.0192, -0.0273,  ..., -0.0134,  0.0158,  0.0272],\n",
      "        [-0.0180, -0.0039, -0.0122,  ..., -0.0062,  0.0299, -0.0160]],\n",
      "       device='cuda:0', dtype=torch.float16)\n"
     ]
    }
   ],
   "source": [
    "from apex.fp16_utils import prep_param_lists, master_params_to_model_params, model_grads_to_master_grads\n",
    "\n",
    "model.load_state_dict(fp16_state_dict)\n",
    "model_params, master_params = prep_param_lists(model)\n",
    "\n",
    "optimizer = optim.SGD(master_params, lr=1e-3)  # Pass master_params to optimizer!\n",
    "print('Optimizer param[0]\\n', optimizer.param_groups[0]['params'][0])  # Print only first parameter (Is now FP32)\n",
    "print('Model weight\\n', model.weight.data)"
   ]
  },
  {
   "cell_type": "markdown",
   "metadata": {},
   "source": [
    "As you can see, the optimizer indeed stores the FP32 copies of our original FP16 model parameters. Now let's implement all recipe shown in Michaels slide. Each step is described as a small comment in the code."
   ]
  },
  {
   "cell_type": "code",
   "execution_count": 12,
   "metadata": {},
   "outputs": [],
   "source": [
    "fp16_master_losses = []\n",
    "for t in range(5000):\n",
    "    model.zero_grad()  # Clear the model FP16 gradients, not the ones in optimizer!\n",
    "    \n",
    "    output = model(x)  # Step 1: Forward pass in FP16\n",
    "    loss = F.mse_loss(output, y)\n",
    "    loss.backward()  # Step 2: Compute backwards on FP16 model params\n",
    "    model_grads_to_master_grads(model_params, master_params)  # Step3: Copy model FP16 gradients to master params\n",
    "    optimizer.step()  # Step 4: Update master params\n",
    "    master_params_to_model_params(model_params, master_params)  # Step 5: Copy master params back to model params\n",
    "\n",
    "    fp16_master_losses.append(loss.item())"
   ]
  },
  {
   "cell_type": "code",
   "execution_count": 13,
   "metadata": {},
   "outputs": [
    {
     "data": {
      "text/plain": [
       "Text(0.5,1,'FP16 (FP32 Master Params) losses')"
      ]
     },
     "execution_count": 13,
     "metadata": {},
     "output_type": "execute_result"
    },
    {
     "data": {
      "image/png": "[encoded data removed]",
      "text/plain": [
       "<Figure size 432x288 with 3 Axes>"
      ]
     },
     "metadata": {
      "needs_background": "light"
     },
     "output_type": "display_data"
    }
   ],
   "source": [
    "fig, axarr = plt.subplots(1, 3)\n",
    "axarr[0].plot(np.array(fp32_losses))\n",
    "axarr[0].set_title('FP32 losses')\n",
    "axarr[1].plot(np.array(fp16_losses))\n",
    "axarr[1].set_title('FP16 losses')\n",
    "axarr[2].plot(np.array(fp16_master_losses))\n",
    "axarr[2].set_title('FP16 (FP32 Master Params) losses')"
   ]
  },
  {
   "cell_type": "markdown",
   "metadata": {},
   "source": [
    "Here we go! Now the FP16 loss curve using FP32 master params looks pretty much like the original FP32 one.\n",
    "\n",
    "But wait a moment... Alright, we are using an FP16 model with all the potential benefits the apex team has mentioned, however we are storing copies of the weights and also are copying the gradients to our FP32 master gradients.\n",
    "\n",
    "In face we are using more memory now than if we would just stick to using FP from the beginning. The model might be faster through, so are we just trading memory for compute?\n",
    "\n",
    "Well, actually no. Remember that in a lot of model architectures (especially CNNs) the memory footprint of the intermediate actications is much larger than the actual parameters!"
   ]
  },
  {
   "cell_type": "markdown",
   "metadata": {},
   "source": [
    "### Loss (Gradient) Scaling\n",
    "\n",
    "The other challenge using FP16 is that the gradients might simply underflow, since the dynamic range of FP16 is much smaller that that of FP32. Our `loss.backward()` call would simply create gradients which are that small in magnitute that they are not representable anymore in FP16.\n",
    "\n",
    "Fortunately, the apex team came up with another trick named Loss Scaling!\n",
    "\n",
    "The basic idea is to try to use the dynamic range of FP16 better by scaling up the loss using some kind of factor **S**.\n",
    "This factor might be a constant (usually in the power of 2) or might be determined dynamically.\n",
    "\n",
    "Let's first recap the concept from the GTC talk:\n",
    "\n",
    "**Loss Scaling**\n",
    "  1. Multiply the loss by some constant S.\n",
    "  2. Call `backward()` on scaled loss.\n",
    "     By chain rule, gradients will also be scaled by S.\n",
    "     This preserves small gradient values.\n",
    "  3. Unscale gradients before update `step()`.\n",
    "\n",
    "Note that selecting a scale factor will **not** affect your learning rate or any other hyperparameter. So you don't have to worry about it.\n",
    "  \n",
    "This seems pretty straightforward to implement in code. We'll be using again our FP32 Master Weight code to add loss scaling."
   ]
  },
  {
   "cell_type": "code",
   "execution_count": 14,
   "metadata": {},
   "outputs": [],
   "source": [
    "model.load_state_dict(fp16_state_dict)\n",
    "model_params, master_params = prep_param_lists(model)\n",
    "\n",
    "optimizer = optim.SGD(master_params, lr=1e-3)\n",
    "scale_factor = 128.0\n",
    "\n",
    "fp16_scaled_losses = []\n",
    "for t in range(5000):\n",
    "    model.zero_grad()\n",
    "    \n",
    "    output = model(x)\n",
    "    loss = F.mse_loss(output, y)\n",
    "    scaled_loss = scale_factor * loss.float()  # Scale up the loss\n",
    "    scaled_loss.backward()  # Call backward on scaled_loss!\n",
    "    model_grads_to_master_grads(model_params, master_params)\n",
    "    \n",
    "    # Descale the FP32 master gradients\n",
    "    for param in master_params:\n",
    "        param.grad.data.mul_(1./scale_factor)\n",
    "    optimizer.step()\n",
    "    master_params_to_model_params(model_params, master_params)\n",
    "\n",
    "    fp16_scaled_losses.append(loss.item())"
   ]
  },
  {
   "cell_type": "code",
   "execution_count": 15,
   "metadata": {},
   "outputs": [
    {
     "data": {
      "text/plain": [
       "Text(0.5,1,'FP16 (Loss Scaling) losses')"
      ]
     },
     "execution_count": 15,
     "metadata": {},
     "output_type": "execute_result"
    },
    {
     "data": {
      "image/png": "[encoded data removed]",
      "text/plain": [
       "<Figure size 432x288 with 4 Axes>"
      ]
     },
     "metadata": {
      "needs_background": "light"
     },
     "output_type": "display_data"
    }
   ],
   "source": [
    "fig, axarr = plt.subplots(1, 4)\n",
    "axarr[0].plot(np.array(fp32_losses))\n",
    "axarr[0].set_title('FP32 losses')\n",
    "axarr[1].plot(np.array(fp16_losses))\n",
    "axarr[1].set_title('FP16 losses')\n",
    "axarr[2].plot(np.array(fp16_master_losses))\n",
    "axarr[2].set_title('FP16 (FP32 Master Params) losses')\n",
    "axarr[3].plot(np.array(fp16_scaled_losses))\n",
    "axarr[3].set_title('FP16 (Loss Scaling) losses')"
   ]
  },
  {
   "cell_type": "markdown",
   "metadata": {},
   "source": [
    "You've might notices that we are transforming our `loss` to FP32 calling `loss.float()` before scaling it up.\n",
    "This is just a small additional safety measure, since transforming a single scalar values won't influence the performance in any way. Also don't worry about our FP16 parameters or gradients being also converted to FP32. PyTorch's Autograd will capture this transform operation and makes sure to rewind this operation in the backward call.\n",
    "\n",
    "Here is our new recipe taken from the GTC slides:\n",
    "\n",
    "![loss_scaling_recipe](./images/loss_scaling.png)"
   ]
  },
  {
   "cell_type": "markdown",
   "metadata": {},
   "source": [
    "Whew, this workflow looks a bit complicated now, right? Also, we are currently using a small dummy model and the code gets bigger and bigger. How would the code look like for a \"real\" model?\n",
    "\n",
    "Well, don't worry about it! The apex team also provides some beautiful utilitity functions to make our life easier, but let's intriduce those methods a bit later.\n",
    "\n",
    "At this point I would like to include a citation of Michael from his GTC talk:\n",
    "\n",
    "_Honestly, we've really never met a network that we couldn't make this work for with careful selection of the loss scale._\n",
    "\n",
    "That sounds promising! :)"
   ]
  },
  {
   "cell_type": "markdown",
   "metadata": {},
   "source": [
    "### Dynamic Loss Scaling\n",
    "\n",
    "It's often not clear which values to choose for the scaling factor. Even though a scaling factor of `128` seems to work quite good in a lot of use cases, you might want to use Dynamic Loss Scaling, to determing the factor.\n",
    "\n",
    "Let's recap that loss scaling is used to prevent gradient **underflow** by scaling up the loss. Dynamic Loss Scaling prevents exactly this by using the highest loss scale that does not cause gradient **overflow**.\n",
    "\n",
    "Here is the recipe for this util based on the GTC talk:\n",
    "\n",
    "  1. Start with a large loss scale (e.g. 2**32)\n",
    "  2. After each iteration, check if gradients overflowed (`Nan` or +/- `Inf`)\n",
    "  3. If gradients overflowed, discard the iteration by skipping `optimizer.step()`\n",
    "  4. If gradients overflowed, reduce [scaling factor] `S` for the next iteration (e.g. `S = S/2`)\n",
    "  5. If `N` (e.g. 1000= iterations pass with no overflow, increase `S` again (`S = S*2`)\n",
    " \n",
    "This workflow tries to use the highest loss scale that won't cause a gradient overflow and adapts the scale factor dynamically.\n",
    "\n",
    "TODO: add example"
   ]
  },
  {
   "cell_type": "markdown",
   "metadata": {},
   "source": [
    "### Accumulate in FP32\n",
    "\n",
    "Sometimes reductions like `sum()` or `mean()` might overflow due to the limitations of FP16. To counter this effect, we should make sure to perform all sensitive reductions in FP32.\n",
    "\n",
    "Let's use the example from Michael's GTC talk to see, what can go wrong."
   ]
  },
  {
   "cell_type": "code",
   "execution_count": 16,
   "metadata": {},
   "outputs": [
    {
     "name": "stdout",
     "output_type": "stream",
     "text": [
      "tensor(65504., device='cuda:0', dtype=torch.float16)\n",
      "tensor(inf, device='cuda:0', dtype=torch.float16)\n"
     ]
    }
   ],
   "source": [
    "a = torch.empty(4094, device=device, dtype=torch.half).fill_(16.0)\n",
    "print(a.sum())\n",
    "b = torch.empty(4095, device=device, dtype=torch.half).fill_(16.0)\n",
    "print(b.sum())"
   ]
  },
  {
   "cell_type": "markdown",
   "metadata": {},
   "source": [
    "As you can see we got an `Inf` in the second example, since we encoutered a value bigger than `65,504`. I believe we've all been there seeing our model outputting `Infs` or `NaNs` without any idea how to debug this issue and what could have gone wrong at all.\n",
    "\n",
    "Using our previous example, we might get into trouble using our current criterion:\n",
    "```python\n",
    "loss = F.mse_loss(output, y)  # Both are FP16, thus might overflow!\n",
    "```\n",
    "\n",
    "Fortunately again, there is an easy fix for this!\n",
    "We would just need to cast both values into FP32 so that the reduction won't overflow that easily.\n",
    "```python\n",
    "loss = F.mse_loss(output.float(), y.float())  # Won't overflow that easily!\n",
    "```\n",
    "\n",
    "Basically, we should be really careful using any reductions in FP16. An example of a typical layer using reductions is `nn.BatchNorm`.\n",
    "\n",
    "To automatically convert all `nn.BatchNorm` layers in a model, apex provides this utility function, which recursively calls all child modules of our model and converts each BatchNorm to FP32.\n",
    "\n",
    "```python\n",
    "def BN_convert_float(module):\n",
    "    if isinstance(module, torch.nn.modules.batchnorm._BatchNorm):\n",
    "        module.float()\n",
    "    for child in module.children():\n",
    "        BN_convert_float(child)\n",
    "    return module\n",
    "```\n",
    "\n",
    "TODO: Based on this code, it's unclear to me, how the input to the FP32 BatchNorm layer will be transformed to a `FloatTensor`. I would expect to get a `RunTimeError`, but apparently the cast is automatically being performed (CUDA/C++/cuDNN backend?)"
   ]
  },
  {
   "cell_type": "markdown",
   "metadata": {},
   "source": [
    "### FP16_Optimizer\n",
    "\n",
    "As mentioned before, let's now have a look at the `FP16_Optimizer` and see, how the usage of this wrapper might simplify mixed precision training for us.\n",
    "\n",
    "The `FP16_Optimizer` is an optimizer wrapper that automatically manages loss scaling and the FP32 Master Weights for us. It has some more features like an optionally automatic management of dynamic loss scaling, it's closure-safe (interesting for LBFGS), and compatible with PyTorch distributed training.\n",
    "\n",
    "Let's rewrite our small example using this utility and compare both approaches.\n",
    "\n",
    "Recall our manual approach:\n",
    "```python\n",
    "model_params, master_params = prep_param_lists(model)\n",
    "\n",
    "optimizer = optim.SGD(master_params, lr=1e-3)\n",
    "scale_factor = 128.0\n",
    "\n",
    "for t in range(5000):\n",
    "    model.zero_grad()  # Clear the model FP16 gradients, not the ones in optimizer!\n",
    "    \n",
    "    output = model(x)  # Forward pass in FP16\n",
    "    loss = F.mse_loss(output, y)\n",
    "    scaled_loss = scale_factor * loss.float()  # Scale up the loss\n",
    "    scaled_loss.backward()  # Call backward on scaled_loss!\n",
    "    model_grads_to_master_grads(model_params, master_params)  # Copy model FP16 gradients to master params\n",
    "    \n",
    "    # Descale the FP32 master gradients\n",
    "    for param in master_params:\n",
    "        param.grad.data.mul_(1./scale_factor)\n",
    "    optimizer.step()  # Update master params\n",
    "    master_params_to_model_params(model_params, master_params)  # Copy master params back to model params\n",
    "    \n",
    "    print('Iteration {}, loss {}'.format(\n",
    "        t, loss.item()))\n",
    "    ```"
   ]
  },
  {
   "cell_type": "code",
   "execution_count": 17,
   "metadata": {},
   "outputs": [
    {
     "name": "stdout",
     "output_type": "stream",
     "text": [
      "FP16_Optimizer processing param group 0:\n",
      "FP16_Optimizer received torch.cuda.HalfTensor with torch.Size([512, 1024])\n",
      "FP16_Optimizer received torch.cuda.HalfTensor with torch.Size([512])\n"
     ]
    }
   ],
   "source": [
    "from apex.fp16_utils import FP16_Optimizer\n",
    "\n",
    "# FP16_Optimizer\n",
    "model.load_state_dict(fp16_state_dict)\n",
    "\n",
    "optimizer = optim.SGD(model.parameters(), lr=1e-3)  # Pass FP16 model parameters to optimizer\n",
    "scale_factor = 128.0\n",
    "optimizer = FP16_Optimizer(optimizer, static_loss_scale=scale_factor)  # Pass original optimizer to FP16_optimizer\n",
    "\n",
    "fp16_opt_losses = []\n",
    "for t in range(5000):\n",
    "    optimizer.zero_grad()\n",
    "    \n",
    "    output = model(x)  # Forward pass in FP16\n",
    "    loss = F.mse_loss(output, y)\n",
    "    \n",
    "    # loss.backward() becomes:\n",
    "    optimizer.backward(loss)  # Call backward on optimizer\n",
    "    optimizer.step()\n",
    "    \n",
    "    fp16_opt_losses.append(loss.item())"
   ]
  },
  {
   "cell_type": "code",
   "execution_count": 18,
   "metadata": {},
   "outputs": [
    {
     "data": {
      "text/plain": [
       "Text(0.5,1,'FP16_Opt losses')"
      ]
     },
     "execution_count": 18,
     "metadata": {},
     "output_type": "execute_result"
    },
    {
     "data": {
      "image/png": "[encoded data removed]",
      "text/plain": [
       "<Figure size 432x288 with 5 Axes>"
      ]
     },
     "metadata": {
      "needs_background": "light"
     },
     "output_type": "display_data"
    }
   ],
   "source": [
    "fig, axarr = plt.subplots(1, 5)\n",
    "axarr[0].plot(np.array(fp32_losses))\n",
    "axarr[0].set_title('FP32 losses')\n",
    "axarr[1].plot(np.array(fp16_losses))\n",
    "axarr[1].set_title('FP16 losses')\n",
    "axarr[2].plot(np.array(fp16_master_losses))\n",
    "axarr[2].set_title('FP16 (FP32 Master Params) losses')\n",
    "axarr[3].plot(np.array(fp16_scaled_losses))\n",
    "axarr[3].set_title('FP16 (Loss Scaling) losses')\n",
    "axarr[4].plot(np.array(fp16_opt_losses))\n",
    "axarr[3].set_title('FP16_Opt losses')"
   ]
  },
  {
   "cell_type": "markdown",
   "metadata": {},
   "source": [
    "The interesting fact is that we just needed to change two lines of code compared to our vanilla PyTorch training procedure.\n",
    "\n",
    "To be able to scale the loss and use FP32 Master Weights, the `FP1_Optimizer` takes the ownership of the backward pass now. Internally, references to the FP16 model parameters are stored in the instantiation step by passing the original optimizer (with references to the model parameters) to `FP16_Optimizer`. This also makes it possible to call `optimizer.zero_grad()` now instead of `model.zero_grad()` as in the manual FP16 training.\n",
    "\n",
    "The most interesing part is the `backward()` call of the `FP16_Optimizer`, which basically performs all necessary steps for mixed precision training we were talking about before.\n",
    "From the docs:\n",
    "```\n",
    " 1. fp32_loss = loss.float()\n",
    " 2. scaled_loss = fp32_loss*loss_scale\n",
    " 3. scaled_loss.backward(), which accumulates scaled gradients into the `.grad` attributes of the model's leaves.\n",
    " 4. fp16 grads are then copied to the master params' `.grad` attributes, which are guaranteed to be fp32.\n",
    " 5. Finally, master grads are divided by loss_scale.\n",
    "```"
   ]
  },
  {
   "cell_type": "code",
   "execution_count": null,
   "metadata": {},
   "outputs": [],
   "source": []
  },
  {
   "cell_type": "code",
   "execution_count": null,
   "metadata": {},
   "outputs": [],
   "source": []
  }
 ],
 "metadata": {
  "kernelspec": {
   "display_name": "Python 3",
   "language": "python",
   "name": "python3"
  },
  "language_info": {
   "codemirror_mode": {
    "name": "ipython",
    "version": 3
   },
   "file_extension": ".py",
   "mimetype": "text/x-python",
   "name": "python",
   "nbconvert_exporter": "python",
   "pygments_lexer": "ipython3",
   "version": "3.6.6"
  }
 },
 "nbformat": 4,
 "nbformat_minor": 2
}
